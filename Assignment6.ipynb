{
  "nbformat": 4,
  "nbformat_minor": 0,
  "metadata": {
    "colab": {
      "name": "Assignment6.ipynb",
      "provenance": [],
      "collapsed_sections": [],
      "toc_visible": true,
      "authorship_tag": "ABX9TyMbqAnkjIkzagB36oCHsaXq",
      "include_colab_link": true
    },
    "kernelspec": {
      "name": "python3",
      "display_name": "Python 3"
    }
  },
  "cells": [
    {
      "cell_type": "markdown",
      "metadata": {
        "id": "view-in-github",
        "colab_type": "text"
      },
      "source": [
        "<a href=\"https://colab.research.google.com/github/lxg201wd/30-Days-Of-Python/blob/master/Assignment6.ipynb\" target=\"_parent\"><img src=\"https://colab.research.google.com/assets/colab-badge.svg\" alt=\"Open In Colab\"/></a>"
      ]
    },
    {
      "cell_type": "code",
      "metadata": {
        "id": "OsyorWKMIXIU",
        "colab_type": "code",
        "outputId": "d430c86d-7cab-48c5-ba86-118ac330b608",
        "colab": {
          "base_uri": "https://localhost:8080/",
          "height": 370
        }
      },
      "source": [
        "import pandas as pd\n",
        "import numpy as np\n",
        "import math\n",
        "import matplotlib.pyplot as plt\n",
        "import missingno as msno\n",
        "import statsmodels.formula.api as smf\n",
        "import seaborn as sns\n",
        "sns.set()\n",
        "\n",
        "data=pd.read_table(\"//shhs1.txt\")\n",
        "data.dropna(axis=0,how='any')#drop all rows that have any NaN values\n",
        "dat = pd.DataFrame(data) \n",
        "\n",
        "dat = dat.assign(\n",
        "  logrdi4p = lambda dataframe: dataframe['rdi4p'].map(lambda rdi4p: math.log(rdi4p + 1)) \n",
        ")\n",
        "\n",
        "\n",
        "# trainFraction = .75\n",
        "# sample = np.random.uniform(size = len(dat)) < trainFraction\n",
        "# trainingDat = dat[sample]\n",
        "# testingDat = dat[~sample]\n",
        "\n",
        "results = smf.ols(\"logrdi4p~bmi_s1\", data = dat).fit()\n",
        "print(results.summary2())\n",
        "\n",
        "\n",
        "\n"
      ],
      "execution_count": 0,
      "outputs": [
        {
          "output_type": "stream",
          "text": [
            "                  Results: Ordinary least squares\n",
            "===================================================================\n",
            "Model:              OLS              Adj. R-squared:     0.135     \n",
            "Dependent Variable: logrdi4p         AIC:                16178.2285\n",
            "Date:               2020-04-01 02:14 BIC:                16191.5462\n",
            "No. Observations:   5761             Log-Likelihood:     -8087.1   \n",
            "Df Model:           1                F-statistic:        898.9     \n",
            "Df Residuals:       5759             Prob (F-statistic): 1.20e-183 \n",
            "R-squared:          0.135            Scale:              0.97045   \n",
            "---------------------------------------------------------------------\n",
            "             Coef.    Std.Err.      t      P>|t|     [0.025    0.975]\n",
            "---------------------------------------------------------------------\n",
            "Intercept   -0.4630     0.0730   -6.3424   0.0000   -0.6062   -0.3199\n",
            "bmi_s1       0.0765     0.0026   29.9813   0.0000    0.0715    0.0815\n",
            "-------------------------------------------------------------------\n",
            "Omnibus:              196.973       Durbin-Watson:          1.951  \n",
            "Prob(Omnibus):        0.000         Jarque-Bera (JB):       144.707\n",
            "Skew:                 0.290         Prob(JB):               0.000  \n",
            "Kurtosis:             2.485         Condition No.:          161    \n",
            "===================================================================\n",
            "\n"
          ],
          "name": "stdout"
        }
      ]
    }
  ]
}